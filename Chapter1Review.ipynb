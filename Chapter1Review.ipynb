{
 "cells": [
  {
   "cell_type": "code",
   "execution_count": 1,
   "metadata": {},
   "outputs": [
    {
     "name": "stdout",
     "output_type": "stream",
     "text": [
      "Hello World!!!\n"
     ]
    }
   ],
   "source": [
    "print (\"Hello World!!!\")"
   ]
  },
  {
   "cell_type": "code",
   "execution_count": 2,
   "metadata": {},
   "outputs": [
    {
     "data": {
      "text/plain": [
       "4"
      ]
     },
     "execution_count": 2,
     "metadata": {},
     "output_type": "execute_result"
    }
   ],
   "source": [
    "2 + 2"
   ]
  },
  {
   "cell_type": "code",
   "execution_count": 3,
   "metadata": {},
   "outputs": [
    {
     "data": {
      "text/plain": [
       "12"
      ]
     },
     "execution_count": 3,
     "metadata": {},
     "output_type": "execute_result"
    }
   ],
   "source": [
    "_ * 3"
   ]
  },
  {
   "cell_type": "code",
   "execution_count": 4,
   "metadata": {
    "collapsed": true
   },
   "outputs": [],
   "source": [
    "from IPython.display import HTML"
   ]
  },
  {
   "cell_type": "code",
   "execution_count": 6,
   "metadata": {},
   "outputs": [
    {
     "data": {
      "text/html": [
       "<table style=\"border: 4px solid green;\">\n",
       "        <tr><td>0, 0</td><td>0, 1</td><td>0, 2</td><td>0, 3</td><td>0, 4</td><td>0, 5</td></tr><tr><td>1, 0</td><td>1, 1</td><td>1, 2</td><td>1, 3</td><td>1, 4</td><td>1, 5</td></tr><tr><td>2, 0</td><td>2, 1</td><td>2, 2</td><td>2, 3</td><td>2, 4</td><td>2, 5</td></tr><tr><td>3, 0</td><td>3, 1</td><td>3, 2</td><td>3, 3</td><td>3, 4</td><td>3, 5</td></tr><tr><td>4, 0</td><td>4, 1</td><td>4, 2</td><td>4, 3</td><td>4, 4</td><td>4, 5</td></tr><tr><td>5, 0</td><td>5, 1</td><td>5, 2</td><td>5, 3</td><td>5, 4</td><td>5, 5</td></tr> \n",
       "        </table>\n",
       "        "
      ],
      "text/plain": [
       "<IPython.core.display.HTML object>"
      ]
     },
     "execution_count": 6,
     "metadata": {},
     "output_type": "execute_result"
    }
   ],
   "source": [
    "HTML('''<table style=\"border: 4px solid green;\">\n",
    "        ''' +\n",
    "        ''.join(['<tr>' +\n",
    "                 ''.join(['<td>{row}, {col}</td>'.format(\n",
    "                             row=row, col = col\n",
    "                             ) for col in range(6)]) +\n",
    "                 '</tr>' for row in range(6)]) +\n",
    "        ''' \n",
    "        </table>\n",
    "        ''')"
   ]
  },
  {
   "cell_type": "code",
   "execution_count": null,
   "metadata": {
    "collapsed": true
   },
   "outputs": [],
   "source": []
  }
 ],
 "metadata": {
  "kernelspec": {
   "display_name": "Python 3",
   "language": "python",
   "name": "python3"
  },
  "language_info": {
   "codemirror_mode": {
    "name": "ipython",
    "version": 3
   },
   "file_extension": ".py",
   "mimetype": "text/x-python",
   "name": "python",
   "nbconvert_exporter": "python",
   "pygments_lexer": "ipython3",
   "version": "3.6.1"
  }
 },
 "nbformat": 4,
 "nbformat_minor": 2
}
